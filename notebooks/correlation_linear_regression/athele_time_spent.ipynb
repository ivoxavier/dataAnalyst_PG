{
 "cells": [
  {
   "cell_type": "markdown",
   "id": "a8d3640a",
   "metadata": {},
   "source": [
    "After completing a road race in athletics, the time (in minutes) spent to complete the route by the first seven classified was determined, having asked them about the average weekly number of hours dedicated to training. The following data was gathered"
   ]
  },
  {
   "cell_type": "code",
   "execution_count": 1,
   "id": "7999d63e",
   "metadata": {},
   "outputs": [
    {
     "data": {
      "text/html": [
       "<div>\n",
       "<style scoped>\n",
       "    .dataframe tbody tr th:only-of-type {\n",
       "        vertical-align: middle;\n",
       "    }\n",
       "\n",
       "    .dataframe tbody tr th {\n",
       "        vertical-align: top;\n",
       "    }\n",
       "\n",
       "    .dataframe thead th {\n",
       "        text-align: right;\n",
       "    }\n",
       "</style>\n",
       "<table border=\"1\" class=\"dataframe\">\n",
       "  <thead>\n",
       "    <tr style=\"text-align: right;\">\n",
       "      <th></th>\n",
       "      <th>athele</th>\n",
       "      <th>training_number_hours_week</th>\n",
       "      <th>time_spent</th>\n",
       "    </tr>\n",
       "  </thead>\n",
       "  <tbody>\n",
       "    <tr>\n",
       "      <th>0</th>\n",
       "      <td>A</td>\n",
       "      <td>30</td>\n",
       "      <td>27.8</td>\n",
       "    </tr>\n",
       "    <tr>\n",
       "      <th>1</th>\n",
       "      <td>B</td>\n",
       "      <td>27</td>\n",
       "      <td>28.3</td>\n",
       "    </tr>\n",
       "    <tr>\n",
       "      <th>2</th>\n",
       "      <td>C</td>\n",
       "      <td>26</td>\n",
       "      <td>29.1</td>\n",
       "    </tr>\n",
       "    <tr>\n",
       "      <th>3</th>\n",
       "      <td>D</td>\n",
       "      <td>24</td>\n",
       "      <td>29.7</td>\n",
       "    </tr>\n",
       "    <tr>\n",
       "      <th>4</th>\n",
       "      <td>E</td>\n",
       "      <td>22</td>\n",
       "      <td>31.0</td>\n",
       "    </tr>\n",
       "    <tr>\n",
       "      <th>5</th>\n",
       "      <td>F</td>\n",
       "      <td>20</td>\n",
       "      <td>31.5</td>\n",
       "    </tr>\n",
       "    <tr>\n",
       "      <th>6</th>\n",
       "      <td>G</td>\n",
       "      <td>17</td>\n",
       "      <td>32.7</td>\n",
       "    </tr>\n",
       "  </tbody>\n",
       "</table>\n",
       "</div>"
      ],
      "text/plain": [
       "  athele  training_number_hours_week  time_spent\n",
       "0      A                          30        27.8\n",
       "1      B                          27        28.3\n",
       "2      C                          26        29.1\n",
       "3      D                          24        29.7\n",
       "4      E                          22        31.0\n",
       "5      F                          20        31.5\n",
       "6      G                          17        32.7"
      ]
     },
     "execution_count": 1,
     "metadata": {},
     "output_type": "execute_result"
    }
   ],
   "source": [
    "import pandas as pd\n",
    "\n",
    "df = pd.read_csv('../../data_sets/athele_time_spent.csv')\n",
    "df"
   ]
  },
  {
   "cell_type": "markdown",
   "id": "f769b059",
   "metadata": {},
   "source": [
    "# Problems\n",
    "a) Determine, using the least squares method, the parameters of the linear regression line, interpreting their meaning within the context presented<br>\n",
    "b) Analyze the goodness of fit by calculating the coefficient of determination<br>\n",
    "c) Comment the following statment:<br>\n",
    "#### \"If an athlete trains about 33 hours a week, he has a chance to beat the race record, which is 26.4 minutes.\""
   ]
  },
  {
   "cell_type": "markdown",
   "id": "81533d29",
   "metadata": {},
   "source": [
    "# Data Understanding"
   ]
  },
  {
   "cell_type": "markdown",
   "id": "4cf42f06",
   "metadata": {},
   "source": [
    "The unit of observation is the athlete. The sample has 7 observations. The atributes are:\n",
    "* training_number_hours_week is the average weekly number of hours of training\n",
    "* time_spent is the time spent in the road race (in minutes)"
   ]
  },
  {
   "cell_type": "markdown",
   "id": "bc90998d",
   "metadata": {},
   "source": [
    "To answer the problem <b>a)</b> we must calculate the linear regression.<br>\n",
    "Both variables are quantitaves, and on this case:<br>\n",
    "* training_number_hours_week is the independent variable\n",
    "* time_spent is the dependent variable"
   ]
  },
  {
   "cell_type": "markdown",
   "id": "a9e1ea0d",
   "metadata": {},
   "source": [
    "# Resolution"
   ]
  },
  {
   "cell_type": "markdown",
   "id": "f591b544",
   "metadata": {},
   "source": [
    "First lets obtain a dispersion diagram, namely the simple scatter since this a simple bivariate"
   ]
  },
  {
   "cell_type": "code",
   "execution_count": 2,
   "id": "4bbb459f",
   "metadata": {},
   "outputs": [
    {
     "data": {
      "image/png": "[encoded data removed]",
      "text/plain": [
       "<Figure size 432x288 with 1 Axes>"
      ]
     },
     "metadata": {
      "needs_background": "light"
     },
     "output_type": "display_data"
    }
   ],
   "source": [
    "from matplotlib import pyplot as plt\n",
    "\n",
    "# by convention x is the variable independent && y is the variable dependent \n",
    "x_values = df['training_number_hours_week']\n",
    "y_values = df['time_spent']\n",
    "plt.scatter(x = x_values, y = y_values)\n",
    "plt.ylabel(\"time spent in race run\")\n",
    "plt.xlabel(\"average of weekly number of hours\")\n",
    "plt.show()"
   ]
  },
  {
   "cell_type": "code",
   "execution_count": 3,
   "id": "a8569ae4",
   "metadata": {},
   "outputs": [
    {
     "data": {
      "text/html": [
       "<div>\n",
       "<style scoped>\n",
       "    .dataframe tbody tr th:only-of-type {\n",
       "        vertical-align: middle;\n",
       "    }\n",
       "\n",
       "    .dataframe tbody tr th {\n",
       "        vertical-align: top;\n",
       "    }\n",
       "\n",
       "    .dataframe thead th {\n",
       "        text-align: right;\n",
       "    }\n",
       "</style>\n",
       "<table border=\"1\" class=\"dataframe\">\n",
       "  <thead>\n",
       "    <tr style=\"text-align: right;\">\n",
       "      <th></th>\n",
       "      <th>training_number_hours_week</th>\n",
       "      <th>time_spent</th>\n",
       "    </tr>\n",
       "  </thead>\n",
       "  <tbody>\n",
       "    <tr>\n",
       "      <th>training_number_hours_week</th>\n",
       "      <td>1.000000</td>\n",
       "      <td>-0.990038</td>\n",
       "    </tr>\n",
       "    <tr>\n",
       "      <th>time_spent</th>\n",
       "      <td>-0.990038</td>\n",
       "      <td>1.000000</td>\n",
       "    </tr>\n",
       "  </tbody>\n",
       "</table>\n",
       "</div>"
      ],
      "text/plain": [
       "                            training_number_hours_week  time_spent\n",
       "training_number_hours_week                    1.000000   -0.990038\n",
       "time_spent                                   -0.990038    1.000000"
      ]
     },
     "execution_count": 3,
     "metadata": {},
     "output_type": "execute_result"
    }
   ],
   "source": [
    "df[['training_number_hours_week','time_spent']].corr(\"pearson\")"
   ]
  },
  {
   "cell_type": "code",
   "execution_count": 4,
   "id": "65e9d1a2",
   "metadata": {},
   "outputs": [],
   "source": [
    "#df.iloc[:,(len(df.columns)-2)].to_frame()\n",
    "#df.iloc[:,(len(df.columns)-1)].to_frame()"
   ]
  },
  {
   "cell_type": "markdown",
   "id": "4630a325",
   "metadata": {},
   "source": [
    "As can be easily seen in the scatter diagram, there is a strong relationship between the average weekly number of hours of training and the shorter times spent in the test. The relationship is so strong that the observations are practically aligned. Also, when calculating the correlation of pearson we have a strong relation among training_number_hours_week and time_spent <b>(-0.990038)</b>"
   ]
  },
  {
   "cell_type": "markdown",
   "id": "038f3d1c",
   "metadata": {},
   "source": [
    "#### Linear regression model"
   ]
  },
  {
   "cell_type": "code",
   "execution_count": 5,
   "id": "4579f11c",
   "metadata": {},
   "outputs": [
    {
     "data": {
      "text/plain": [
       "LinearRegression()"
      ]
     },
     "execution_count": 5,
     "metadata": {},
     "output_type": "execute_result"
    }
   ],
   "source": [
    "from sklearn.linear_model import LinearRegression\n",
    "\n",
    "#create object for the class\n",
    "linear_regressor = LinearRegression()\n",
    "\n",
    "x_shapped = x_values.values.reshape(-1, 1)\n",
    "y_shapped = y_values.values.reshape(-1, 1)\n",
    "\n",
    "linear_regressor.fit(x_shapped, y_shapped)"
   ]
  },
  {
   "cell_type": "markdown",
   "id": "37650f8c",
   "metadata": {},
   "source": [
    "<i>Parameters of the linear regression</i>"
   ]
  },
  {
   "cell_type": "code",
   "execution_count": 24,
   "id": "d95ba8de",
   "metadata": {},
   "outputs": [
    {
     "name": "stdout",
     "output_type": "stream",
     "text": [
      "-0.4000000000000001\n"
     ]
    }
   ],
   "source": [
    "coeficient_regression = float(linear_regressor.coef_)\n",
    "print(coeficient_regression)"
   ]
  },
  {
   "cell_type": "code",
   "execution_count": 25,
   "id": "d45e1532",
   "metadata": {},
   "outputs": [
    {
     "name": "stdout",
     "output_type": "stream",
     "text": [
      "39.5\n"
     ]
    }
   ],
   "source": [
    "intercept = float(linear_regressor.intercept_)\n",
    "print(intercept)"
   ]
  },
  {
   "cell_type": "code",
   "execution_count": 8,
   "id": "5c9f7452",
   "metadata": {},
   "outputs": [
    {
     "name": "stdout",
     "output_type": "stream",
     "text": [
      "98.02\n"
     ]
    }
   ],
   "source": [
    "coeficient_determination = round(linear_regressor.score(x_shapped,y_shapped) * 100.0,2)\n",
    "print(coeficient_determination)"
   ]
  },
  {
   "cell_type": "markdown",
   "id": "31678d8d",
   "metadata": {},
   "source": [
    "<i>Calculated regression line</i>\n",
    "\n",
    "<b>y = b * x + a </b><br>\n",
    "where:<br>\n",
    "b is the regression coeficient<br>\n",
    "a is the intercept"
   ]
  },
  {
   "cell_type": "code",
   "execution_count": 9,
   "id": "2f38aec6",
   "metadata": {},
   "outputs": [
    {
     "data": {
      "image/png": "[encoded data removed]",
      "text/plain": [
       "<Figure size 432x288 with 1 Axes>"
      ]
     },
     "metadata": {
      "needs_background": "light"
     },
     "output_type": "display_data"
    }
   ],
   "source": [
    "plt.scatter(x_shapped, y_shapped)\n",
    "\n",
    "calculated_regression_line = coeficient_regression * x_shapped + intercept\n",
    "#alternatively we can use this inseatead of writting all the equation\n",
    "#linear_regressor.predict(x_shapped)\n",
    "\n",
    "plt.plot(x_shapped, calculated_regression_line, color='red')\n",
    "\n",
    "\n",
    "plt.show()"
   ]
  },
  {
   "cell_type": "markdown",
   "id": "8145c76f",
   "metadata": {},
   "source": [
    "<i>If an athlete trains about 33 hours a week, he has a chance to beat the race record, which is <b>26.4</b> minutes?</i>"
   ]
  },
  {
   "cell_type": "code",
   "execution_count": 26,
   "id": "48655124",
   "metadata": {},
   "outputs": [
    {
     "name": "stdout",
     "output_type": "stream",
     "text": [
      "26.3\n"
     ]
    }
   ],
   "source": [
    "print(round(intercept - (-coeficient_regression) * 33,1))"
   ]
  },
  {
   "cell_type": "markdown",
   "id": "7849acc0",
   "metadata": {},
   "source": [
    "Yes, because 26.3 is lower then 26.4"
   ]
  }
 ],
 "metadata": {
  "kernelspec": {
   "display_name": "Python 3",
   "language": "python",
   "name": "python3"
  },
  "language_info": {
   "codemirror_mode": {
    "name": "ipython",
    "version": 3
   },
   "file_extension": ".py",
   "mimetype": "text/x-python",
   "name": "python",
   "nbconvert_exporter": "python",
   "pygments_lexer": "ipython3",
   "version": "3.7.6"
  }
 },
 "nbformat": 4,
 "nbformat_minor": 5
}
